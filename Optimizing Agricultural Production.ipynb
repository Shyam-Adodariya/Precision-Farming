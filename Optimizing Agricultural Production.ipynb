{
 "cells": [
  {
   "cell_type": "markdown",
   "id": "3d999ec2-a8ef-4c15-adcf-4fd2af5a7768",
   "metadata": {},
   "source": [
    "# Importing Libraries"
   ]
  },
  {
   "cell_type": "code",
   "execution_count": 1,
   "id": "bf204ed6-e981-49a6-b912-fe52a2511cca",
   "metadata": {},
   "outputs": [],
   "source": [
    "import pandas as pd\n",
    "import numpy as np\n",
    "\n",
    "import matplotlib.pyplot as plt\n",
    "import seaborn as sns\n",
    "\n",
    "from ipywidgets import interact"
   ]
  },
  {
   "cell_type": "code",
   "execution_count": 2,
   "id": "928f8950-afc4-482a-850c-0e2f41c4db72",
   "metadata": {},
   "outputs": [],
   "source": [
    "data = pd.read_csv('data.csv')"
   ]
  },
  {
   "cell_type": "code",
   "execution_count": 3,
   "id": "71b039ad-2da4-44e7-8779-7a462e14450c",
   "metadata": {},
   "outputs": [
    {
     "name": "stdout",
     "output_type": "stream",
     "text": [
      "shape off the dataset :  (2200, 8)\n"
     ]
    }
   ],
   "source": [
    "print(\"shape off the dataset : \",data.shape)"
   ]
  },
  {
   "cell_type": "code",
   "execution_count": 4,
   "id": "6297e8d6-f1d8-4cde-b278-db362a41bfcb",
   "metadata": {},
   "outputs": [
    {
     "data": {
      "text/html": [
       "<div>\n",
       "<style scoped>\n",
       "    .dataframe tbody tr th:only-of-type {\n",
       "        vertical-align: middle;\n",
       "    }\n",
       "\n",
       "    .dataframe tbody tr th {\n",
       "        vertical-align: top;\n",
       "    }\n",
       "\n",
       "    .dataframe thead th {\n",
       "        text-align: right;\n",
       "    }\n",
       "</style>\n",
       "<table border=\"1\" class=\"dataframe\">\n",
       "  <thead>\n",
       "    <tr style=\"text-align: right;\">\n",
       "      <th></th>\n",
       "      <th>N</th>\n",
       "      <th>P</th>\n",
       "      <th>K</th>\n",
       "      <th>temperature</th>\n",
       "      <th>humidity</th>\n",
       "      <th>ph</th>\n",
       "      <th>rainfall</th>\n",
       "      <th>label</th>\n",
       "    </tr>\n",
       "  </thead>\n",
       "  <tbody>\n",
       "    <tr>\n",
       "      <th>0</th>\n",
       "      <td>90</td>\n",
       "      <td>42</td>\n",
       "      <td>43</td>\n",
       "      <td>20.879744</td>\n",
       "      <td>82.002744</td>\n",
       "      <td>6.502985</td>\n",
       "      <td>202.935536</td>\n",
       "      <td>rice</td>\n",
       "    </tr>\n",
       "    <tr>\n",
       "      <th>1</th>\n",
       "      <td>85</td>\n",
       "      <td>58</td>\n",
       "      <td>41</td>\n",
       "      <td>21.770462</td>\n",
       "      <td>80.319644</td>\n",
       "      <td>7.038096</td>\n",
       "      <td>226.655537</td>\n",
       "      <td>rice</td>\n",
       "    </tr>\n",
       "    <tr>\n",
       "      <th>2</th>\n",
       "      <td>60</td>\n",
       "      <td>55</td>\n",
       "      <td>44</td>\n",
       "      <td>23.004459</td>\n",
       "      <td>82.320763</td>\n",
       "      <td>7.840207</td>\n",
       "      <td>263.964248</td>\n",
       "      <td>rice</td>\n",
       "    </tr>\n",
       "    <tr>\n",
       "      <th>3</th>\n",
       "      <td>74</td>\n",
       "      <td>35</td>\n",
       "      <td>40</td>\n",
       "      <td>26.491096</td>\n",
       "      <td>80.158363</td>\n",
       "      <td>6.980401</td>\n",
       "      <td>242.864034</td>\n",
       "      <td>rice</td>\n",
       "    </tr>\n",
       "    <tr>\n",
       "      <th>4</th>\n",
       "      <td>78</td>\n",
       "      <td>42</td>\n",
       "      <td>42</td>\n",
       "      <td>20.130175</td>\n",
       "      <td>81.604873</td>\n",
       "      <td>7.628473</td>\n",
       "      <td>262.717340</td>\n",
       "      <td>rice</td>\n",
       "    </tr>\n",
       "  </tbody>\n",
       "</table>\n",
       "</div>"
      ],
      "text/plain": [
       "    N   P   K  temperature   humidity        ph    rainfall label\n",
       "0  90  42  43    20.879744  82.002744  6.502985  202.935536  rice\n",
       "1  85  58  41    21.770462  80.319644  7.038096  226.655537  rice\n",
       "2  60  55  44    23.004459  82.320763  7.840207  263.964248  rice\n",
       "3  74  35  40    26.491096  80.158363  6.980401  242.864034  rice\n",
       "4  78  42  42    20.130175  81.604873  7.628473  262.717340  rice"
      ]
     },
     "execution_count": 4,
     "metadata": {},
     "output_type": "execute_result"
    }
   ],
   "source": [
    "data.head()"
   ]
  },
  {
   "cell_type": "code",
   "execution_count": 5,
   "id": "23ebd734-b61b-4f1e-a31b-0144a4eff123",
   "metadata": {},
   "outputs": [
    {
     "data": {
      "text/plain": [
       "N              0\n",
       "P              0\n",
       "K              0\n",
       "temperature    0\n",
       "humidity       0\n",
       "ph             0\n",
       "rainfall       0\n",
       "label          0\n",
       "dtype: int64"
      ]
     },
     "execution_count": 5,
     "metadata": {},
     "output_type": "execute_result"
    }
   ],
   "source": [
    "data.isnull().sum()"
   ]
  },
  {
   "cell_type": "code",
   "execution_count": 6,
   "id": "29189d2c-5174-459e-b225-e9d6c46c4c32",
   "metadata": {},
   "outputs": [
    {
     "data": {
      "text/plain": [
       "label\n",
       "rice           100\n",
       "maize          100\n",
       "jute           100\n",
       "cotton         100\n",
       "coconut        100\n",
       "papaya         100\n",
       "orange         100\n",
       "apple          100\n",
       "muskmelon      100\n",
       "watermelon     100\n",
       "grapes         100\n",
       "mango          100\n",
       "banana         100\n",
       "pomegranate    100\n",
       "lentil         100\n",
       "blackgram      100\n",
       "mungbean       100\n",
       "mothbeans      100\n",
       "pigeonpeas     100\n",
       "kidneybeans    100\n",
       "chickpea       100\n",
       "coffee         100\n",
       "Name: count, dtype: int64"
      ]
     },
     "execution_count": 6,
     "metadata": {},
     "output_type": "execute_result"
    }
   ],
   "source": [
    "data['label'].value_counts()"
   ]
  },
  {
   "cell_type": "code",
   "execution_count": 7,
   "id": "b49344ce-eebe-4a00-9811-f50fe8e7e425",
   "metadata": {},
   "outputs": [
    {
     "name": "stdout",
     "output_type": "stream",
     "text": [
      "Average Ratio of Nitrogen in the soil : 50.55\n",
      "Average Ratio of Phosphorous in the soil : 53.36\n",
      "Average Ratio of potassium in the soil : 48.15\n",
      "Average Temprature in Celcius : 25.62\n",
      "Average Relative Humidity in % : 71.48\n",
      "Average PH Value of the soil : 6.47\n",
      "Average Rainfall in mm : 103.46\n"
     ]
    }
   ],
   "source": [
    "print(\"Average Ratio of Nitrogen in the soil : {0:.2f}\".format(data['N'].mean()))\n",
    "print(\"Average Ratio of Phosphorous in the soil : {0:.2f}\".format(data['P'].mean()))\n",
    "print(\"Average Ratio of potassium in the soil : {0:.2f}\".format(data['K'].mean()))\n",
    "print(\"Average Temprature in Celcius : {0:.2f}\".format(data['temperature'].mean()))\n",
    "print(\"Average Relative Humidity in % : {0:.2f}\".format(data['humidity'].mean()))\n",
    "print(\"Average PH Value of the soil : {0:.2f}\".format(data['ph'].mean()))\n",
    "print(\"Average Rainfall in mm : {0:.2f}\".format(data['rainfall'].mean()))"
   ]
  },
  {
   "cell_type": "code",
   "execution_count": 8,
   "id": "bb4e5148-55ea-4f9e-8b2d-5c4bea370af6",
   "metadata": {},
   "outputs": [
    {
     "data": {
      "application/vnd.jupyter.widget-view+json": {
       "model_id": "ac57ea1306794bb495a9a44a858d8d10",
       "version_major": 2,
       "version_minor": 0
      },
      "text/plain": [
       "interactive(children=(Dropdown(description='crops', options=('rice', 'maize', 'jute', 'cotton', 'coconut', 'pa…"
      ]
     },
     "metadata": {},
     "output_type": "display_data"
    }
   ],
   "source": [
    "@interact\n",
    "def summary(crops = list(data['label'].value_counts().index)):\n",
    "    x = data[data['label'] == crops]\n",
    "    print(\"------------------------------------------------\")\n",
    "    print(\"Starisitics for Nitrogen\")\n",
    "    print(\"Minimum Nitrogrn Required :\",x['N'].min())\n",
    "    print(\"Average Nitrogrn Required :\",x['N'].mean())\n",
    "    print(\"Maximum Nitrogrn Required :\",x['N'].max())\n",
    "    print(\"------------------------------------------------\")\n",
    "    print(\"Starisitics for Phosphorous\")\n",
    "    print(\"Minimum Phosphorous Required :\",x['P'].min())\n",
    "    print(\"Average Phosphorous Required :\",x['P'].mean())\n",
    "    print(\"Maximum Phosphorous Required :\",x['P'].max())\n",
    "    print(\"------------------------------------------------\")\n",
    "    print(\"Starisitics for Potassium\")\n",
    "    print(\"Minimum Potassium Required :\",x['K'].min())\n",
    "    print(\"Average Potassium Required :\",x['K'].mean())\n",
    "    print(\"Maximum Potassium Required :\",x['K'].max())\n",
    "    print(\"------------------------------------------------\")\n",
    "    print(\"Starisitics for Temperature\")\n",
    "    print(\"Minimum Temperature Required : {0:.2f}\".format(x['temperature'].min()))\n",
    "    print(\"Average Temperature Required : {0:.2f}\".format(x['temperature'].mean()))\n",
    "    print(\"Maximum Temperature Required : {0:.2f}\".format(x['temperature'].max()))\n",
    "    print(\"------------------------------------------------\")\n",
    "    print(\"Starisitics for Humidity\")\n",
    "    print(\"Minimum Humidity Required : {0:.2f}\".format(x['humidity'].min()))\n",
    "    print(\"Average Humidity Required : {0:.2f}\".format(x['humidity'].mean()))\n",
    "    print(\"Maximum Humidity Required : {0:.2f}\".format(x['humidity'].max()))\n",
    "    print(\"------------------------------------------------\")\n",
    "    print(\"Starisitics for PH\")\n",
    "    print(\"Minimum PH Required : {0:.2f}\".format(x['ph'].min()))\n",
    "    print(\"Average PH Required : {0:.2f}\".format(x['ph'].mean()))\n",
    "    print(\"Maximum PH Required : {0:.2f}\".format(x['ph'].max()))\n",
    "    print(\"------------------------------------------------\")\n",
    "    print(\"Starisitics for Rainfall\")\n",
    "    print(\"Minimum Rainfall Required : {0:.2f}\".format(x['rainfall'].min()))\n",
    "    print(\"Average Rainfall Required : {0:.2f}\".format(x['rainfall'].mean()))\n",
    "    print(\"Maximum Rainfall Required : {0:.2f}\".format(x['rainfall'].max()))"
   ]
  },
  {
   "cell_type": "code",
   "execution_count": 9,
   "id": "41199991-4507-4e60-b641-61afc0886779",
   "metadata": {},
   "outputs": [
    {
     "data": {
      "application/vnd.jupyter.widget-view+json": {
       "model_id": "aec7abbc4bf5468d8b434de869cf081f",
       "version_major": 2,
       "version_minor": 0
      },
      "text/plain": [
       "interactive(children=(Dropdown(description='conditions', options=('N', 'P', 'K', 'temperature', 'ph', 'humidit…"
      ]
     },
     "metadata": {},
     "output_type": "display_data"
    }
   ],
   "source": [
    "@interact\n",
    "def compare(conditions = ['N','P','K','temperature','ph','humidity','rainfall']):\n",
    "    print(\"Average Value for\", conditions,\"is {0:.2f}\".format(data[conditions].mean()))\n",
    "    print(\"---------------------------------------------------\")\n",
    "    print(\"rice : {0:.2f}\".format(data[(data['label'] == 'rice')][conditions].mean()))\n",
    "    print(\"blackgrams : {0:.2f}\".format(data[(data['label'] == 'blackgram')][conditions].mean()))\n",
    "    print(\"maize : {0:.2f}\".format(data[(data['label'] == 'maize')][conditions].mean()))\n",
    "    print(\"jute : {0:.2f}\".format(data[(data['label'] == 'jute')][conditions].mean()))\n",
    "    print(\"cotton : {0:.2f}\".format(data[(data['label'] == 'cotton')][conditions].mean()))\n",
    "    print(\"Rice : {0:.2f}\".format(data[(data['label'] == 'coconut')][conditions].mean()))\n",
    "    print(\"papaya : {0:.2f}\".format(data[(data['label'] == 'papaya')][conditions].mean()))\n",
    "    print(\"orange : {0:.2f}\".format(data[(data['label'] == 'orange')][conditions].mean()))\n",
    "    print(\"apple : {0:.2f}\".format(data[(data['label'] == 'apple')][conditions].mean()))\n",
    "    print(\"muskmelon : {0:.2f}\".format(data[(data['label'] == 'muskmelon')][conditions].mean()))\n",
    "    print(\"watermelon : {0:.2f}\".format(data[(data['label'] == 'watermelon')][conditions].mean()))\n",
    "    print(\"grapes : {0:.2f}\".format(data[(data['label'] == 'grapes')][conditions].mean()))\n",
    "    print(\"mango : {0:.2f}\".format(data[(data['label'] == 'mango')][conditions].mean()))\n",
    "    print(\"banana : {0:.2f}\".format(data[(data['label'] == 'banana')][conditions].mean()))\n",
    "    print(\"pomegranate : {0:.2f}\".format(data[(data['label'] == 'pomegranate')][conditions].mean()))\n",
    "    print(\"lentil : {0:.2f}\".format(data[(data['label'] == 'lentil')][conditions].mean()))\n",
    "    print(\"mungbean : {0:.2f}\".format(data[(data['label'] == 'mungbean')][conditions].mean()))\n",
    "    print(\"mothbeans : {0:.2f}\".format(data[(data['label'] == 'mothbeans')][conditions].mean()))\n",
    "    print(\"pigeonpeas : {0:.2f}\".format(data[(data['label'] == 'pigeonpeas')][conditions].mean()))\n",
    "    print(\"kidneybeans : {0:.2f}\".format(data[(data['label'] == 'kidneybeans')][conditions].mean()))\n",
    "    print(\"chickpea : {0:.2f}\".format(data[(data['label'] == 'chickpea')][conditions].mean()))\n",
    "    print(\"coffee : {0:.2f}\".format(data[(data['label'] == 'coffee')][conditions].mean()))"
   ]
  },
  {
   "cell_type": "code",
   "execution_count": 10,
   "id": "414bca21-1e85-4111-8fe2-d24e89104a5f",
   "metadata": {},
   "outputs": [
    {
     "data": {
      "application/vnd.jupyter.widget-view+json": {
       "model_id": "278076b142fb488789598b05ef35dc16",
       "version_major": 2,
       "version_minor": 0
      },
      "text/plain": [
       "interactive(children=(Dropdown(description='conditions', options=('N', 'P', 'K', 'temperature', 'ph', 'humdity…"
      ]
     },
     "metadata": {},
     "output_type": "display_data"
    }
   ],
   "source": [
    "@interact\n",
    "def compare(conditions = ['N','P','K','temperature','ph','humdity','rainfall']):\n",
    "    print(\"crops which reqire greter then average \",conditions,'\\n')\n",
    "    print(data[data[conditions] > data[conditions].mean()]['label'].unique())\n",
    "    print(\"----------------------------------------------\")\n",
    "    print(\"crops which require less then average \",conditions,'\\n')\n",
    "    print(data[data[conditions] <= data[conditions].mean()]['label'].unique())"
   ]
  },
  {
   "cell_type": "markdown",
   "id": "016579db-565a-49dc-9536-9686d945b267",
   "metadata": {},
   "source": [
    "# Distribution"
   ]
  },
  {
   "cell_type": "code",
   "execution_count": 11,
   "id": "9fec42e6-124e-493f-b7f2-ef6c12afdd9e",
   "metadata": {},
   "outputs": [
    {
     "name": "stderr",
     "output_type": "stream",
     "text": [
      "C:\\Users\\Admin\\AppData\\Local\\Temp\\ipykernel_40844\\398520008.py:4: UserWarning: \n",
      "\n",
      "`distplot` is a deprecated function and will be removed in seaborn v0.14.0.\n",
      "\n",
      "Please adapt your code to use either `displot` (a figure-level function with\n",
      "similar flexibility) or `histplot` (an axes-level function for histograms).\n",
      "\n",
      "For a guide to updating your code to use the new functions, please see\n",
      "https://gist.github.com/mwaskom/de44147ed2974457ad6372750bbe5751\n",
      "\n",
      "  sns.distplot(data['N'],color = 'lightgrey')\n",
      "C:\\Users\\Admin\\AppData\\Local\\Temp\\ipykernel_40844\\398520008.py:9: UserWarning: \n",
      "\n",
      "`distplot` is a deprecated function and will be removed in seaborn v0.14.0.\n",
      "\n",
      "Please adapt your code to use either `displot` (a figure-level function with\n",
      "similar flexibility) or `histplot` (an axes-level function for histograms).\n",
      "\n",
      "For a guide to updating your code to use the new functions, please see\n",
      "https://gist.github.com/mwaskom/de44147ed2974457ad6372750bbe5751\n",
      "\n",
      "  sns.distplot(data['P'],color = 'skyblue')\n",
      "C:\\Users\\Admin\\AppData\\Local\\Temp\\ipykernel_40844\\398520008.py:14: UserWarning: \n",
      "\n",
      "`distplot` is a deprecated function and will be removed in seaborn v0.14.0.\n",
      "\n",
      "Please adapt your code to use either `displot` (a figure-level function with\n",
      "similar flexibility) or `histplot` (an axes-level function for histograms).\n",
      "\n",
      "For a guide to updating your code to use the new functions, please see\n",
      "https://gist.github.com/mwaskom/de44147ed2974457ad6372750bbe5751\n",
      "\n",
      "  sns.distplot(data['K'],color = 'darkblue')\n",
      "C:\\Users\\Admin\\AppData\\Local\\Temp\\ipykernel_40844\\398520008.py:19: UserWarning: \n",
      "\n",
      "`distplot` is a deprecated function and will be removed in seaborn v0.14.0.\n",
      "\n",
      "Please adapt your code to use either `displot` (a figure-level function with\n",
      "similar flexibility) or `histplot` (an axes-level function for histograms).\n",
      "\n",
      "For a guide to updating your code to use the new functions, please see\n",
      "https://gist.github.com/mwaskom/de44147ed2974457ad6372750bbe5751\n",
      "\n",
      "  sns.distplot(data['temperature'],color = 'darkgrey')\n",
      "C:\\Users\\Admin\\AppData\\Local\\Temp\\ipykernel_40844\\398520008.py:24: UserWarning: \n",
      "\n",
      "`distplot` is a deprecated function and will be removed in seaborn v0.14.0.\n",
      "\n",
      "Please adapt your code to use either `displot` (a figure-level function with\n",
      "similar flexibility) or `histplot` (an axes-level function for histograms).\n",
      "\n",
      "For a guide to updating your code to use the new functions, please see\n",
      "https://gist.github.com/mwaskom/de44147ed2974457ad6372750bbe5751\n",
      "\n",
      "  sns.distplot(data['rainfall'],color = 'red')\n",
      "C:\\Users\\Admin\\AppData\\Local\\Temp\\ipykernel_40844\\398520008.py:29: UserWarning: \n",
      "\n",
      "`distplot` is a deprecated function and will be removed in seaborn v0.14.0.\n",
      "\n",
      "Please adapt your code to use either `displot` (a figure-level function with\n",
      "similar flexibility) or `histplot` (an axes-level function for histograms).\n",
      "\n",
      "For a guide to updating your code to use the new functions, please see\n",
      "https://gist.github.com/mwaskom/de44147ed2974457ad6372750bbe5751\n",
      "\n",
      "  sns.distplot(data['humidity'],color = 'lightgreen')\n",
      "C:\\Users\\Admin\\AppData\\Local\\Temp\\ipykernel_40844\\398520008.py:34: UserWarning: \n",
      "\n",
      "`distplot` is a deprecated function and will be removed in seaborn v0.14.0.\n",
      "\n",
      "Please adapt your code to use either `displot` (a figure-level function with\n",
      "similar flexibility) or `histplot` (an axes-level function for histograms).\n",
      "\n",
      "For a guide to updating your code to use the new functions, please see\n",
      "https://gist.github.com/mwaskom/de44147ed2974457ad6372750bbe5751\n",
      "\n",
      "  sns.distplot(data['ph'],color = 'darkgreen')\n"
     ]
    },
    {
     "data": {
      "image/png": "[encoded data removed]",
      "text/plain": [
       "<Figure size 1500x700 with 7 Axes>"
      ]
     },
     "metadata": {},
     "output_type": "display_data"
    }
   ],
   "source": [
    "plt. rcParams['figure.figsize'] = (15,7)\n",
    "\n",
    "plt.subplot(2,4,1)\n",
    "sns.distplot(data['N'],color = 'lightgrey')\n",
    "plt.xlabel('Ratio of Nitrogen ', fontsize = 12)\n",
    "plt.grid()\n",
    "\n",
    "plt.subplot(2,4,2)\n",
    "sns.distplot(data['P'],color = 'skyblue')\n",
    "plt.xlabel('Ratio of phosphorous', fontsize = 12)\n",
    "plt.grid()\n",
    "\n",
    "plt.subplot(2,4,3)\n",
    "sns.distplot(data['K'],color = 'darkblue')\n",
    "plt.xlabel('Ratio of potassium', fontsize = 12)\n",
    "plt.grid()\n",
    "\n",
    "plt.subplot(2,4,4)\n",
    "sns.distplot(data['temperature'],color = 'darkgrey')\n",
    "plt.xlabel('Ratio of Temperature', fontsize = 12)\n",
    "plt.grid()\n",
    "\n",
    "plt.subplot(2,4,5)\n",
    "sns.distplot(data['rainfall'],color = 'red')\n",
    "plt.xlabel('Rainfall', fontsize = 12)\n",
    "plt.grid()\n",
    "\n",
    "plt.subplot(2,4,6)\n",
    "sns.distplot(data['humidity'],color = 'lightgreen')\n",
    "plt.xlabel('Humidity', fontsize = 12)\n",
    "plt.grid()\n",
    "\n",
    "plt.subplot(2,4,7)\n",
    "sns.distplot(data['ph'],color = 'darkgreen')\n",
    "plt.xlabel('PH Level', fontsize = 12)\n",
    "plt.grid()"
   ]
  },
  {
   "cell_type": "code",
   "execution_count": 12,
   "id": "ed3c1084-da4e-4702-85af-e49738f7c57a",
   "metadata": {},
   "outputs": [
    {
     "name": "stdout",
     "output_type": "stream",
     "text": [
      "some interesting petterns\n",
      "-------------------------------------\n",
      "crops whcih reqires very high ratio of Nitrogen content in soil: ['cotton']\n",
      "crops whcih reqires very high ratio of Phosphorous content in soil: ['grapes' 'apple']\n",
      "crops whcih reqires very high ratio of potassium content in soil: ['grapes' 'apple']\n",
      "crops whcih reqires very high Rainfall: ['rice' 'papaya' 'coconut']\n",
      "crops whcih reqires very low tamperature: ['grapes']\n",
      "crops whcih reqires very high temperature: ['grapes' 'papaya']\n",
      "crops whcih reqires very low humidity: ['chickpea' 'kidneybeans']\n",
      "crops whcih reqires very low ph ['mothbeans']\n",
      "crops whcih reqires very high ph ['mothbeans']\n"
     ]
    }
   ],
   "source": [
    "print(\"some interesting petterns\")\n",
    "print(\"-------------------------------------\")\n",
    "print(\"crops whcih reqires very high ratio of Nitrogen content in soil:\",data[data['N']>120]['label'].unique())\n",
    "print(\"crops whcih reqires very high ratio of Phosphorous content in soil:\",data[data['P']>100]['label'].unique())\n",
    "print(\"crops whcih reqires very high ratio of potassium content in soil:\",data[data['K']>200]['label'].unique())\n",
    "print(\"crops whcih reqires very high Rainfall:\",data[data['rainfall']>200]['label'].unique())\n",
    "print(\"crops whcih reqires very low tamperature:\",data[data['temperature']<10]['label'].unique())\n",
    "print(\"crops whcih reqires very high temperature:\",data[data['temperature']>40]['label'].unique())\n",
    "print(\"crops whcih reqires very low humidity:\",data[data['humidity']<20]['label'].unique())\n",
    "print(\"crops whcih reqires very low ph\",data[data['ph']<4]['label'].unique())\n",
    "print(\"crops whcih reqires very high ph\",data[data['ph']>9]['label'].unique())"
   ]
  },
  {
   "cell_type": "code",
   "execution_count": 13,
   "id": "6457fd36-8c28-4546-bca5-0eeccc064586",
   "metadata": {},
   "outputs": [
    {
     "name": "stdout",
     "output_type": "stream",
     "text": [
      "summer corps\n",
      "['pigeonpeas' 'mothbeans' 'blackgram' 'mango' 'grapes' 'orange' 'papaya']\n",
      "----------------------------------------------------------\n",
      "winter corps\n",
      "['maize' 'pigeonpeas' 'lentil' 'pomegranate' 'grapes' 'orange']\n",
      "----------------------------------------------------------\n",
      "rainy corps\n",
      "['rice' 'papaya' 'coconut']\n"
     ]
    }
   ],
   "source": [
    "print(\"summer corps\")\n",
    "print(data[(data['temperature']>30) & (data['humidity']>50)]['label'].unique())\n",
    "print(\"----------------------------------------------------------\")\n",
    "print(\"winter corps\")\n",
    "print(data[(data['temperature']<20) & (data['humidity']>30)]['label'].unique())\n",
    "print(\"----------------------------------------------------------\")\n",
    "print(\"rainy corps\")\n",
    "print(data[(data['rainfall']>200) & (data['humidity']>30)]['label'].unique())"
   ]
  },
  {
   "cell_type": "code",
   "execution_count": 14,
   "id": "d0ad4445-d593-4f2d-a230-caaf6b4c8971",
   "metadata": {},
   "outputs": [
    {
     "name": "stdout",
     "output_type": "stream",
     "text": [
      "(2200, 7)\n"
     ]
    },
    {
     "data": {
      "text/html": [
       "<div>\n",
       "<style scoped>\n",
       "    .dataframe tbody tr th:only-of-type {\n",
       "        vertical-align: middle;\n",
       "    }\n",
       "\n",
       "    .dataframe tbody tr th {\n",
       "        vertical-align: top;\n",
       "    }\n",
       "\n",
       "    .dataframe thead th {\n",
       "        text-align: right;\n",
       "    }\n",
       "</style>\n",
       "<table border=\"1\" class=\"dataframe\">\n",
       "  <thead>\n",
       "    <tr style=\"text-align: right;\">\n",
       "      <th></th>\n",
       "      <th>0</th>\n",
       "      <th>1</th>\n",
       "      <th>2</th>\n",
       "      <th>3</th>\n",
       "      <th>4</th>\n",
       "      <th>5</th>\n",
       "      <th>6</th>\n",
       "    </tr>\n",
       "  </thead>\n",
       "  <tbody>\n",
       "    <tr>\n",
       "      <th>0</th>\n",
       "      <td>90.0</td>\n",
       "      <td>42.0</td>\n",
       "      <td>43.0</td>\n",
       "      <td>202.935536</td>\n",
       "      <td>82.002744</td>\n",
       "      <td>6.502985</td>\n",
       "      <td>20.879744</td>\n",
       "    </tr>\n",
       "    <tr>\n",
       "      <th>1</th>\n",
       "      <td>85.0</td>\n",
       "      <td>58.0</td>\n",
       "      <td>41.0</td>\n",
       "      <td>226.655537</td>\n",
       "      <td>80.319644</td>\n",
       "      <td>7.038096</td>\n",
       "      <td>21.770462</td>\n",
       "    </tr>\n",
       "    <tr>\n",
       "      <th>2</th>\n",
       "      <td>60.0</td>\n",
       "      <td>55.0</td>\n",
       "      <td>44.0</td>\n",
       "      <td>263.964248</td>\n",
       "      <td>82.320763</td>\n",
       "      <td>7.840207</td>\n",
       "      <td>23.004459</td>\n",
       "    </tr>\n",
       "    <tr>\n",
       "      <th>3</th>\n",
       "      <td>74.0</td>\n",
       "      <td>35.0</td>\n",
       "      <td>40.0</td>\n",
       "      <td>242.864034</td>\n",
       "      <td>80.158363</td>\n",
       "      <td>6.980401</td>\n",
       "      <td>26.491096</td>\n",
       "    </tr>\n",
       "    <tr>\n",
       "      <th>4</th>\n",
       "      <td>78.0</td>\n",
       "      <td>42.0</td>\n",
       "      <td>42.0</td>\n",
       "      <td>262.717340</td>\n",
       "      <td>81.604873</td>\n",
       "      <td>7.628473</td>\n",
       "      <td>20.130175</td>\n",
       "    </tr>\n",
       "  </tbody>\n",
       "</table>\n",
       "</div>"
      ],
      "text/plain": [
       "      0     1     2           3          4         5          6\n",
       "0  90.0  42.0  43.0  202.935536  82.002744  6.502985  20.879744\n",
       "1  85.0  58.0  41.0  226.655537  80.319644  7.038096  21.770462\n",
       "2  60.0  55.0  44.0  263.964248  82.320763  7.840207  23.004459\n",
       "3  74.0  35.0  40.0  242.864034  80.158363  6.980401  26.491096\n",
       "4  78.0  42.0  42.0  262.717340  81.604873  7.628473  20.130175"
      ]
     },
     "execution_count": 14,
     "metadata": {},
     "output_type": "execute_result"
    }
   ],
   "source": [
    "from sklearn.cluster import KMeans\n",
    "import matplotlib.pyplot as plt\n",
    "import pandas as pd\n",
    "import warnings\n",
    "\n",
    "warnings.filterwarnings('ignore')\n",
    "\n",
    "x = data.loc[:, ['N', 'P', 'K', 'rainfall', 'humidity', 'ph', 'temperature']].values\n",
    "\n",
    "print(x.shape)\n",
    "\n",
    "x_data = pd.DataFrame(x)\n",
    "\n",
    "x_data.head()"
   ]
  },
  {
   "cell_type": "code",
   "execution_count": 15,
   "id": "49564f8f-7691-4f2a-98b6-eea5f0ecde3b",
   "metadata": {},
   "outputs": [
    {
     "data": {
      "image/png": "[encoded data removed]",
      "text/plain": [
       "<Figure size 1000x400 with 1 Axes>"
      ]
     },
     "metadata": {},
     "output_type": "display_data"
    }
   ],
   "source": [
    "plt.rcParams['figure.figsize'] = (10, 4)\n",
    "\n",
    "wcss = []\n",
    "for i in range(1, 11):\n",
    "    km = KMeans(n_clusters=i, init='k-means++', max_iter=300, n_init=10, random_state=0)\n",
    "    km.fit(x_data)\n",
    "    wcss.append(km.inertia_)\n",
    "\n",
    "plt.plot(range(1, 11), wcss)\n",
    "plt.title('The Elbow Method', fontsize=20)\n",
    "plt.xlabel('No. of Clusters')\n",
    "plt.ylabel('WCSS')\n",
    "plt.show()"
   ]
  },
  {
   "cell_type": "code",
   "execution_count": 16,
   "id": "a7a87b6c-7947-429d-805a-816262d1765b",
   "metadata": {},
   "outputs": [
    {
     "name": "stdout",
     "output_type": "stream",
     "text": [
      "Lets check the Results After Applying the K Means Clustering Analysis \n",
      "\n",
      "crops in First Cluster: ['grapes' 'apple']\n",
      "---------------------------------------------------------------\n",
      "crops in Second Cluster: ['maize' 'chickpea' 'kidneybeans' 'pigeonpeas' 'mothbeans' 'mungbean'\n",
      " 'blackgram' 'lentil' 'pomegranate' 'mango' 'orange' 'papaya' 'coconut']\n",
      "---------------------------------------------------------------\n",
      "crops in Third Cluster: ['maize' 'banana' 'watermelon' 'muskmelon' 'papaya' 'cotton' 'coffee']\n",
      "---------------------------------------------------------------\n",
      "crops in Fourth Cluster: ['rice' 'pigeonpeas' 'papaya' 'coconut' 'jute' 'coffee']\n"
     ]
    }
   ],
   "source": [
    "km = KMeans(n_clusters = 4, init = 'k-means++', max_iter = 300, n_init = 10, random_state = 0)\n",
    "y_means = km.fit_predict(x)\n",
    "\n",
    "a = data['label']\n",
    "y_means = pd.DataFrame(y_means)\n",
    "z = pd.concat([y_means,a],axis = 1)\n",
    "z = z.rename(columns = {0: 'cluster'})\n",
    "\n",
    "print(\"Lets check the Results After Applying the K Means Clustering Analysis \\n\")\n",
    "print(\"crops in First Cluster:\",z[z['cluster'] == 0]['label'].unique())\n",
    "print(\"---------------------------------------------------------------\")\n",
    "print(\"crops in Second Cluster:\",z[z['cluster'] == 1]['label'].unique())\n",
    "print(\"---------------------------------------------------------------\")\n",
    "print(\"crops in Third Cluster:\",z[z['cluster'] == 2]['label'].unique())\n",
    "print(\"---------------------------------------------------------------\")\n",
    "print(\"crops in Fourth Cluster:\",z[z['cluster'] == 3]['label'].unique())"
   ]
  },
  {
   "cell_type": "code",
   "execution_count": 17,
   "id": "c3fc99e2-2450-48af-aada-3a6ada12375d",
   "metadata": {},
   "outputs": [
    {
     "name": "stdout",
     "output_type": "stream",
     "text": [
      "shape of x:  (2200, 7)\n",
      "shape of y:  (2200,)\n"
     ]
    }
   ],
   "source": [
    "y = data['label']\n",
    "x = data.drop(['label'],axis = 1)\n",
    "print(\"shape of x: \",x.shape)\n",
    "print(\"shape of y: \",y.shape)"
   ]
  },
  {
   "cell_type": "code",
   "execution_count": 18,
   "id": "941df8b5-f06e-417c-8f72-2676b7dbd644",
   "metadata": {},
   "outputs": [
    {
     "name": "stdout",
     "output_type": "stream",
     "text": [
      "the shape of the x train:  (1760, 7)\n",
      "the shape of the x test:  (440, 7)\n",
      "the shape of the y train:  (1760,)\n",
      "the shape of the y test:  (440,)\n"
     ]
    }
   ],
   "source": [
    "from sklearn.model_selection import train_test_split\n",
    "\n",
    "x_train, x_test, y_train, y_test = train_test_split(x, y, test_size = 0.2, random_state = 0)\n",
    "\n",
    "print(\"the shape of the x train: \",x_train.shape)\n",
    "print(\"the shape of the x test: \",x_test.shape)\n",
    "print(\"the shape of the y train: \",y_train.shape)\n",
    "print(\"the shape of the y test: \",y_test.shape)\n"
   ]
  },
  {
   "cell_type": "code",
   "execution_count": 19,
   "id": "3dba1f28-ba86-4136-a4e9-e421c20296c8",
   "metadata": {},
   "outputs": [],
   "source": [
    "from sklearn.linear_model import LogisticRegression\n",
    "\n",
    "model = LogisticRegression()\n",
    "model.fit(x_train, y_train)\n",
    "y_pred = model.predict(x_test)"
   ]
  },
  {
   "cell_type": "code",
   "execution_count": 20,
   "id": "11df2cc4-1f21-4e92-97e7-c2ed6a51d30f",
   "metadata": {},
   "outputs": [
    {
     "name": "stdout",
     "output_type": "stream",
     "text": [
      "              precision    recall  f1-score   support\n",
      "\n",
      "       apple       1.00      1.00      1.00        18\n",
      "      banana       1.00      1.00      1.00        18\n",
      "   blackgram       0.86      0.82      0.84        22\n",
      "    chickpea       1.00      1.00      1.00        23\n",
      "     coconut       1.00      1.00      1.00        15\n",
      "      coffee       1.00      1.00      1.00        17\n",
      "      cotton       0.89      1.00      0.94        16\n",
      "      grapes       1.00      1.00      1.00        18\n",
      "        jute       0.84      1.00      0.91        21\n",
      " kidneybeans       1.00      1.00      1.00        20\n",
      "      lentil       0.94      0.94      0.94        17\n",
      "       maize       0.94      0.89      0.91        18\n",
      "       mango       1.00      1.00      1.00        21\n",
      "   mothbeans       0.88      0.92      0.90        25\n",
      "    mungbean       1.00      1.00      1.00        17\n",
      "   muskmelon       1.00      1.00      1.00        23\n",
      "      orange       1.00      1.00      1.00        23\n",
      "      papaya       1.00      0.95      0.98        21\n",
      "  pigeonpeas       1.00      1.00      1.00        22\n",
      " pomegranate       1.00      1.00      1.00        23\n",
      "        rice       1.00      0.84      0.91        25\n",
      "  watermelon       1.00      1.00      1.00        17\n",
      "\n",
      "    accuracy                           0.97       440\n",
      "   macro avg       0.97      0.97      0.97       440\n",
      "weighted avg       0.97      0.97      0.97       440\n",
      "\n"
     ]
    }
   ],
   "source": [
    "from sklearn.metrics import classification_report\n",
    "\n",
    "cr = classification_report(y_test, y_pred)\n",
    "print(cr)"
   ]
  },
  {
   "cell_type": "code",
   "execution_count": 21,
   "id": "f45b93e6-42f2-4552-b76f-ed2aad77449b",
   "metadata": {},
   "outputs": [
    {
     "data": {
      "text/html": [
       "<div>\n",
       "<style scoped>\n",
       "    .dataframe tbody tr th:only-of-type {\n",
       "        vertical-align: middle;\n",
       "    }\n",
       "\n",
       "    .dataframe tbody tr th {\n",
       "        vertical-align: top;\n",
       "    }\n",
       "\n",
       "    .dataframe thead th {\n",
       "        text-align: right;\n",
       "    }\n",
       "</style>\n",
       "<table border=\"1\" class=\"dataframe\">\n",
       "  <thead>\n",
       "    <tr style=\"text-align: right;\">\n",
       "      <th></th>\n",
       "      <th>N</th>\n",
       "      <th>P</th>\n",
       "      <th>K</th>\n",
       "      <th>temperature</th>\n",
       "      <th>humidity</th>\n",
       "      <th>ph</th>\n",
       "      <th>rainfall</th>\n",
       "      <th>label</th>\n",
       "    </tr>\n",
       "  </thead>\n",
       "  <tbody>\n",
       "    <tr>\n",
       "      <th>0</th>\n",
       "      <td>90</td>\n",
       "      <td>42</td>\n",
       "      <td>43</td>\n",
       "      <td>20.879744</td>\n",
       "      <td>82.002744</td>\n",
       "      <td>6.502985</td>\n",
       "      <td>202.935536</td>\n",
       "      <td>rice</td>\n",
       "    </tr>\n",
       "    <tr>\n",
       "      <th>1</th>\n",
       "      <td>85</td>\n",
       "      <td>58</td>\n",
       "      <td>41</td>\n",
       "      <td>21.770462</td>\n",
       "      <td>80.319644</td>\n",
       "      <td>7.038096</td>\n",
       "      <td>226.655537</td>\n",
       "      <td>rice</td>\n",
       "    </tr>\n",
       "    <tr>\n",
       "      <th>2</th>\n",
       "      <td>60</td>\n",
       "      <td>55</td>\n",
       "      <td>44</td>\n",
       "      <td>23.004459</td>\n",
       "      <td>82.320763</td>\n",
       "      <td>7.840207</td>\n",
       "      <td>263.964248</td>\n",
       "      <td>rice</td>\n",
       "    </tr>\n",
       "    <tr>\n",
       "      <th>3</th>\n",
       "      <td>74</td>\n",
       "      <td>35</td>\n",
       "      <td>40</td>\n",
       "      <td>26.491096</td>\n",
       "      <td>80.158363</td>\n",
       "      <td>6.980401</td>\n",
       "      <td>242.864034</td>\n",
       "      <td>rice</td>\n",
       "    </tr>\n",
       "    <tr>\n",
       "      <th>4</th>\n",
       "      <td>78</td>\n",
       "      <td>42</td>\n",
       "      <td>42</td>\n",
       "      <td>20.130175</td>\n",
       "      <td>81.604873</td>\n",
       "      <td>7.628473</td>\n",
       "      <td>262.717340</td>\n",
       "      <td>rice</td>\n",
       "    </tr>\n",
       "  </tbody>\n",
       "</table>\n",
       "</div>"
      ],
      "text/plain": [
       "    N   P   K  temperature   humidity        ph    rainfall label\n",
       "0  90  42  43    20.879744  82.002744  6.502985  202.935536  rice\n",
       "1  85  58  41    21.770462  80.319644  7.038096  226.655537  rice\n",
       "2  60  55  44    23.004459  82.320763  7.840207  263.964248  rice\n",
       "3  74  35  40    26.491096  80.158363  6.980401  242.864034  rice\n",
       "4  78  42  42    20.130175  81.604873  7.628473  262.717340  rice"
      ]
     },
     "execution_count": 21,
     "metadata": {},
     "output_type": "execute_result"
    }
   ],
   "source": [
    "data.head()"
   ]
  },
  {
   "cell_type": "code",
   "execution_count": 22,
   "id": "77eaf450-2511-4681-b5d5-924e612c7cce",
   "metadata": {},
   "outputs": [
    {
     "name": "stdout",
     "output_type": "stream",
     "text": [
      "the suggested crop for given climate conditions is:  ['rice']\n"
     ]
    }
   ],
   "source": [
    "prediction = model.predict((np.array([[90,\n",
    "                                      40,\n",
    "                                      40,\n",
    "                                      20,\n",
    "                                      80,\n",
    "                                      7,\n",
    "                                      200]])))\n",
    "print(\"the suggested crop for given climate conditions is: \",prediction)"
   ]
  },
  {
   "cell_type": "code",
   "execution_count": 23,
   "id": "6648d68a-7f51-4c65-b234-0e9c7c2de265",
   "metadata": {},
   "outputs": [
    {
     "name": "stdout",
     "output_type": "stream",
     "text": [
      "the suggested crop for given climate conditions is:  ['orange']\n"
     ]
    }
   ],
   "source": [
    "prediction = model.predict((np.array([[20,\n",
    "                                      30,\n",
    "                                      10,\n",
    "                                      15,\n",
    "                                      90,\n",
    "                                      7.5,\n",
    "                                      100]])))\n",
    "print(\"the suggested crop for given climate conditions is: \",prediction)"
   ]
  },
  {
   "cell_type": "markdown",
   "id": "8ab3f4dc-a1e2-4e3b-b60d-d30e14997134",
   "metadata": {},
   "source": [
    "As we can see this model is providing accurate prediction "
   ]
  }
 ],
 "metadata": {
  "kernelspec": {
   "display_name": "Python 3 (ipykernel)",
   "language": "python",
   "name": "python3"
  },
  "language_info": {
   "codemirror_mode": {
    "name": "ipython",
    "version": 3
   },
   "file_extension": ".py",
   "mimetype": "text/x-python",
   "name": "python",
   "nbconvert_exporter": "python",
   "pygments_lexer": "ipython3",
   "version": "3.12.0"
  }
 },
 "nbformat": 4,
 "nbformat_minor": 5
}
